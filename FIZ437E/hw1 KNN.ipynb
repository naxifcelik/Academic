{
 "cells": [
  {
   "cell_type": "code",
   "execution_count": 1,
   "id": "3b0132a8",
   "metadata": {},
   "outputs": [],
   "source": [
    "import cv2 as cv\n",
    "import math\n",
    "import numpy as np\n",
    "import os "
   ]
  },
  {
   "cell_type": "code",
   "execution_count": 2,
   "id": "1c7e7f3b",
   "metadata": {},
   "outputs": [],
   "source": [
    "#\\/\\/\\/\\/\\/\\/\\/\\/\\/\\/\\/\\/\\/\\/\\/\\/\\/\\/\\/\\/\\/\\/\\/\\/\\/\\/\\/\\/\\/\\/\\/\\/\\/\\/\\/\\/\n",
    "#                          Nazif ÇELİK 090200712\n",
    "#\\/\\/\\/\\/\\/\\/\\/\\/\\/\\/\\/\\/\\/\\/\\/\\/\\/\\/\\/\\/\\/\\/\\/\\/\\/\\/\\/\\/\\/\\/\\/\\/\\/\\/\\/\\/\n",
    "oklid(x, y)\n",
    "uzaklık(vector1, vector2)\n",
    "classification(distances, k)\n",
    "resultt(k, test)"
   ]
  },
  {
   "cell_type": "code",
   "execution_count": 13,
   "id": "3190f6ac",
   "metadata": {},
   "outputs": [],
   "source": [
    "renkliaraba = \"C:\\\\Users\\\\n\\\\images\\\\car\"\n",
    "renkliucak = \"C:\\\\Users\\\\n\\\\Desktop\\\\images\\\\Flugzeug\"\n",
    "scaledaraba = \"C:\\\\Users\\\\n\\\\images\\\\car_labelled\"\n",
    "scaleducak = \"C:\\\\Users\\\\n\\\\images\\\\sonucak\""
   ]
  },
  {
   "cell_type": "code",
   "execution_count": 6,
   "id": "1f137e7b",
   "metadata": {},
   "outputs": [],
   "source": [
    "ucak_vec=[]\n",
    "araba_vec=[]\n",
    "for f in os.listdir(scaleducak):\n",
    "    dosya=os.path.join(scaleducak,f)\n",
    "    image = cv.imread(dosya)\n",
    "    npydata = np.asarray(image)\n",
    "    data = np.ravel(npydata)\n",
    "    ucak_vec.append(data)\n",
    "    image = cv.imwrite(dosya,image)"
   ]
  },
  {
   "cell_type": "code",
   "execution_count": 7,
   "id": "3dea72ca",
   "metadata": {},
   "outputs": [],
   "source": [
    "for f in os.listdir(scaledaraba):\n",
    "    dosya=os.path.join(scaledaraba,f)\n",
    "    araba_vec.append(data)\n",
    "    image = cv.imwrite(dosya,image)    \n",
    "    image = cv.imread(dosya)\n",
    "    npydata = np.asarray(image)\n",
    "    data = np.ravel(npydata)\n",
    "    ucak_vec_train=ucak_vec[:450]\n",
    "    ucak_vec_test=ucak_vec[-50:]\n",
    "    araba_vec_train=araba_vec[:450]\n",
    "    araba_vec_test=araba_vec[-50:]\n",
    "    test=araba_vec_test+ucak_vec_test\n",
    "    train=araba_vec+ucak_vec"
   ]
  },
  {
   "cell_type": "code",
   "execution_count": 8,
   "id": "ba015017",
   "metadata": {},
   "outputs": [],
   "source": [
    "def oklid(x, y):\n",
    "    sum_squared_distance = 0\n",
    "    for i in range(len(x)):\n",
    "        sum_squared_distance += math.pow(x[i] - y[i], 2)\n",
    "    return math.sqrt(sum_squared_distance)"
   ]
  },
  {
   "cell_type": "code",
   "execution_count": 9,
   "id": "7978bb97",
   "metadata": {},
   "outputs": [],
   "source": [
    "def uzaklık(vector1,vector2):\n",
    "    distances=np.zeros(len(vector2))\n",
    "    for i in range(len(vector1)):\n",
    "        for j  in range(len(vector2)):\n",
    "            distance=euclidean_distance(vector1[i],vector2[j])\n",
    "            distances[j]=distance\n",
    "    return (distances)"
   ]
  },
  {
   "cell_type": "code",
   "execution_count": 10,
   "id": "4b94df31",
   "metadata": {},
   "outputs": [],
   "source": [
    "def classification(distances, k):\n",
    "    num_test = distances.shape[0]\n",
    "    k = np.zeros(num_test)\n",
    "    for i in range(num_test):\n",
    "        closest = []\n",
    "        closest = [np.argsort(dists[i])][0:k]\n",
    "        k[i] = np.bincount(closest).argmax()\n",
    "    return k"
   ]
  },
  {
   "cell_type": "code",
   "execution_count": 12,
   "id": "bb6f46c2",
   "metadata": {},
   "outputs": [],
   "source": [
    "def resultt(k , test):\n",
    "    count = 0\n",
    "    for i in range(len(k)):\n",
    "        if k[i] == test[i]:\n",
    "            count +=1\n",
    "        return print(\"Accuracy =\", (count/len(k))*100, \"%\") "
   ]
  },
  {
   "cell_type": "code",
   "execution_count": null,
   "id": "505199e6",
   "metadata": {},
   "outputs": [],
   "source": []
  }
 ],
 "metadata": {
  "kernelspec": {
   "display_name": "Python 3 (ipykernel)",
   "language": "python",
   "name": "python3"
  },
  "language_info": {
   "codemirror_mode": {
    "name": "ipython",
    "version": 3
   },
   "file_extension": ".py",
   "mimetype": "text/x-python",
   "name": "python",
   "nbconvert_exporter": "python",
   "pygments_lexer": "ipython3",
   "version": "3.9.12"
  }
 },
 "nbformat": 4,
 "nbformat_minor": 5
}
